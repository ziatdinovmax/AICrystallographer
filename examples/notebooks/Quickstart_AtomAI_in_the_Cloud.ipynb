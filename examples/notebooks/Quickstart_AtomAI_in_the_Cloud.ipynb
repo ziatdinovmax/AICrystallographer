{
  "nbformat": 4,
  "nbformat_minor": 0,
  "metadata": {
    "colab": {
      "name": "Quickstart: AtomAI in the Cloud.ipynb",
      "provenance": [],
      "authorship_tag": "ABX9TyMRGv9XVvTLrQsUVbx7MDx6",
      "include_colab_link": true
    },
    "kernelspec": {
      "name": "python3",
      "display_name": "Python 3"
    }
  },
  "cells": [
    {
      "cell_type": "markdown",
      "metadata": {
        "id": "view-in-github",
        "colab_type": "text"
      },
      "source": [
        "<a href=\"https://colab.research.google.com/github/ziatdinovmax/AICrystallographer/blob/master/examples/notebooks/Quickstart_AtomAI_in_the_Cloud.ipynb\" target=\"_parent\"><img src=\"https://colab.research.google.com/assets/colab-badge.svg\" alt=\"Open In Colab\"/></a>"
      ]
    },
    {
      "cell_type": "markdown",
      "metadata": {
        "id": "JNSCYiYuHWRo",
        "colab_type": "text"
      },
      "source": [
        "## Quickstart: AtomAI in the Cloud\n",
        "\n",
        "The easiest way to start using AtomAI is via [Google Colab](https://colab.research.google.com/notebooks/intro.ipynb), which is a free research tool from Google for machine learning education and research built on top of Jupyter Notebook. The following notebooks can be executed in Google Colab by simply clicking on \"Open in Colab\" icon:\n",
        "<br><br>\n",
        "\n",
        "1) Train a deep fully convolutional neural network for atom finding [![Open In Colab](https://colab.research.google.com/assets/colab-badge.svg)](https://colab.research.google.com/github/ziatdinovmax/atomai/blob/master/examples/notebooks/atomai_atomnet.ipynb)\n",
        "\n",
        "\n",
        "2) Multivariate statistical analysis of distortion domains in a single atomic image [![Open In Colab](https://colab.research.google.com/assets/colab-badge.svg)](https://colab.research.google.com/github/ziatdinovmax/atomai/blob/master/examples/notebooks/atomai_atomstat.ipynb)\n",
        "\n",
        "3) Variational autoencoders for analysis of structural transformations [![Open In Colab](https://colab.research.google.com/assets/colab-badge.svg)](https://colab.research.google.com/github/ziatdinovmax/atomai/blob/master/examples/notebooks/atomai_vae.ipynb)\n",
        "\n",
        "4) Prepare training data from experimental image with atomic coordinate [![Open In Colab](https://colab.research.google.com/assets/colab-badge.svg)](https://colab.research.google.com/github/ziatdinovmax/atomai/blob/master/examples/notebooks/atomai_training_data.ipynb)"
      ]
    },
    {
      "cell_type": "code",
      "metadata": {
        "id": "y3mz5b_HWkME",
        "colab_type": "code",
        "colab": {}
      },
      "source": [
        ""
      ],
      "execution_count": null,
      "outputs": []
    }
  ]
}