{
  "nbformat": 4,
  "nbformat_minor": 0,
  "metadata": {
    "colab": {
      "name": "ColabNotebooks-BasicOperations.ipynb",
      "version": "0.3.2",
      "provenance": [],
      "collapsed_sections": [],
      "include_colab_link": true
    },
    "kernelspec": {
      "name": "python3",
      "display_name": "Python 3"
    },
    "accelerator": "GPU"
  },
  "cells": [
    {
      "cell_type": "markdown",
      "metadata": {
        "id": "view-in-github",
        "colab_type": "text"
      },
      "source": [
        "<a href=\"https://colab.research.google.com/github/pycroscopy/AICrystallographer/blob/master/Tutorials/ColabNotebooks_BasicOperations.ipynb\" target=\"_parent\"><img src=\"https://colab.research.google.com/assets/colab-badge.svg\" alt=\"Open In Colab\"/></a>"
      ]
    },
    {
      "cell_type": "markdown",
      "metadata": {
        "id": "hkcI78C4Sybk",
        "colab_type": "text"
      },
      "source": [
        "# Basic operations in Colaboratory notebook"
      ]
    },
    {
      "cell_type": "markdown",
      "metadata": {
        "id": "X1eAzUL-twns",
        "colab_type": "text"
      },
      "source": [
        "Last modified: 07/11/2019\n",
        "\n",
        "Author: Maxim Ziatdinov\n",
        "\n",
        "Email: ziatdinovmax@gmail.com"
      ]
    },
    {
      "cell_type": "markdown",
      "metadata": {
        "id": "5DTQU4m2Uk35",
        "colab_type": "text"
      },
      "source": [
        "---\n",
        "\n",
        "[Colaboratory](https://research.google.com/colaboratory/faq.html) (or Colab) is a free research tool from Google for machine learning education and research built on top of [Jupyter Notebook](https://jupyter.org/). From our experience, it is also an ideal tool for scientific collaboration and sharing your results with non-experts (as opposed to, say, collaboration via a GitHub project), especially when there are drastic fluctuations in coding skills across a team/collaboration. This particular notebook starts with a brief overview of Colab's UI and then shows some simple operations in Colab notebooks, including some basic plotting, code parameterization, usage of shell commands and several examples of working with PyTorch deep machine learning library. Notice that many popular Python packages, such as tensorflow, pytorch, scikit, opencv, are already installed in Colaboratory. So we can just import them into our notebook and start having fun.\n",
        "\n",
        "---\n",
        "\n"
      ]
    },
    {
      "cell_type": "markdown",
      "metadata": {
        "id": "gvZo58B9gh8M",
        "colab_type": "text"
      },
      "source": [
        "##Notebook rules:\n",
        "\n",
        "Some basic notebook rules:\n",
        "\n",
        "\n",
        "1.   Click inside a cell with code and press SHIFT+ENTER (or click \"PLAY\" button) to execute it.\n",
        "2.   Re-executing a cell will reset it (any input will be lost).\n",
        "3.   Execute cells TOP TO BOTTOM.\n",
        "4.  Use TAB for [code autocompletion and function parameters hint](https://colab.research.google.com/notebooks/basic_features_overview.ipynb#scrollTo=d4L9TOP9QSHn)\n",
        "5. Notebooks are saved to your Google Drive.\n",
        "6. Mount your Google Drive to have a direct access from a notebook to the files stored in the drive (this includes Team Drives).\n",
        "7. If using Colab's virtual storage only, all the uploaded/stored files will get deleted when a runtime is recycled."
      ]
    },
    {
      "cell_type": "markdown",
      "metadata": {
        "id": "lSmlIG2Z3xg9",
        "colab_type": "text"
      },
      "source": [
        "## Colab UI"
      ]
    },
    {
      "cell_type": "markdown",
      "metadata": {
        "id": "ePS_CtpL3CM_",
        "colab_type": "text"
      },
      "source": [
        "###Opening notebooks\n",
        "\n",
        "\n",
        "You can open any notebook hosted on GitHub by going to Colaboratory [start page](https://colab.research.google.com) and selecting GITHUB from a menu dialog. Then search for a specific GitHub repository and choose a notebook that you would like to open from the list of notebooks in that repository. From the same [start page](https://colab.research.google.com) you can view and open notebooks stored in your GDrive, upload a regular Jupyter notebook from your local machine and start an entirely new notebook. Colab currently supports Python 2 and Python 3 kernels as well as a [Swift kernel](https://github.com/tensorflow/swift/blob/master/Usage.md#colaboratory). You can also choose between GPU and [TPU](https://colab.research.google.com/notebooks/tpu.ipynb) hardware accelerator options for your Colab notebook  (*Edit --> Notebook settings* or *Runtime --> Change runtime type*)."
      ]
    },
    {
      "cell_type": "markdown",
      "metadata": {
        "id": "BkkrjXN8x_Vq",
        "colab_type": "text"
      },
      "source": [
        "###Upload/download files\n",
        "\n",
        "\n",
        "Once you open a Google Colab notebook, it creates a virtual machine instance on a Google Cloud Platform. To upload files from your local machine to Colab virtual storage, use UPLOAD option from the left sidebar. To download files from Colab's virtual storage to your local machine, right-click on a file and then select ''Download\". You can also mount your google drive: once you click on MOUNT DRIVE in the left sidebar, it will insert a code cell into your notebook that you'll need to run to mount your google drive (it will ask for your authorization). Another way to download files (without mounting a google drive) is to use a `!gdown` or `!wget` commands (more details in the [Shell commands](#scrollTo=JrF12-bqPKPm) section)<br><br>\n",
        "\n",
        "\n",
        "<img src=\"https://drive.google.com/uc?export=view&id=1CRjolVrVbEboNPLVVw-c_AtsBBcSou1Z\" width=800 px><br><br>"
      ]
    },
    {
      "cell_type": "markdown",
      "metadata": {
        "id": "ztbOYEUwyDIq",
        "colab_type": "text"
      },
      "source": [
        "### Share your notebooks\n",
        "\n",
        "You may share your notebooks the same way you share Google Docs and Google Slides (it needs to be stored in your/team Google Drive for this). You can also comment on individual code cells in a notebook and your collaborators will receive your comments (in a form of email notification), as long as the notebook is shared with them. To leave a comment, click on *More cell actions* (three vertical dots in the right side of any code cell) and select *Add a Comment*.  Alternatively, you may use a *Ctrl+Alt+M* shortcut. The ability to share comments can be very useful if you make some important additions/changes to the notebook (e.g. when you have an eureca moment) and you want your collaborators to see those additions/changes asap. It is also very useful when you get stuck and need help/advice.<br><br>\n",
        "\n",
        "<img src=\"https://drive.google.com/uc?export=view&id=1pofWWSCqhtKBxxjS28nP7mA2pgfJ5Zet\" width=800 px><br><br>"
      ]
    },
    {
      "cell_type": "markdown",
      "metadata": {
        "id": "LznJ4fbmiZvW",
        "colab_type": "text"
      },
      "source": [
        "## Simple math with numpy and matplotlib"
      ]
    },
    {
      "cell_type": "markdown",
      "metadata": {
        "colab_type": "text",
        "id": "Sl1VzZSRkGGp"
      },
      "source": [
        "We can use \"standard\" python packages like [numpy](https://www.numpy.org/) and [matplotlib](https://matplotlib.org/) as well any many other popular packages for data manipulation and data vizualization, which are pre-installed in Colab ."
      ]
    },
    {
      "cell_type": "code",
      "metadata": {
        "colab_type": "code",
        "id": "XYNq0mwTkGGn",
        "colab": {}
      },
      "source": [
        "# Package for manipulation with numerical data\n",
        "import numpy as np\n",
        "# Package for plotting\n",
        "import matplotlib.pyplot as plt"
      ],
      "execution_count": 0,
      "outputs": []
    },
    {
      "cell_type": "markdown",
      "metadata": {
        "colab_type": "text",
        "id": "AAkwo2VSkGGl"
      },
      "source": [
        "As an example, let's make a plot of *sin* and *cos* waves using numpy and matplotlib.\n",
        "\n",
        "First, define *'x'* and *'y'*:"
      ]
    },
    {
      "cell_type": "code",
      "metadata": {
        "colab_type": "code",
        "id": "dUshwphCkGGh",
        "colab": {}
      },
      "source": [
        "# creates array of data points between 0 and 10, with 0.01 interval\n",
        "x = np.arange(0, 10, 0.01)\n",
        "# calculates sin function at each point\n",
        "y_sin = np.sin(x)\n",
        "# calculates cos function at each point\n",
        "y_cos = np.cos(x)"
      ],
      "execution_count": 0,
      "outputs": []
    },
    {
      "cell_type": "markdown",
      "metadata": {
        "colab_type": "text",
        "id": "VAoobxVIkGGf"
      },
      "source": [
        "Now plot sine and cosine waves:"
      ]
    },
    {
      "cell_type": "code",
      "metadata": {
        "colab_type": "code",
        "outputId": "83b44762-ff5c-4063-e134-3820ee9e227d",
        "id": "hW1uYFIikGGR",
        "colab": {
          "base_uri": "https://localhost:8080/",
          "height": 535
        }
      },
      "source": [
        "# creates a figure and a set of subplots (ax1 and ax2)\n",
        "fig, (ax1, ax2) = plt.subplots(nrows=2, ncols=1, sharex=True, figsize=(8, 8))\n",
        "# plot sine wave in the first subplot\n",
        "ax1.plot(x, y_sin)\n",
        "ax1.set_title('Sine wave')\n",
        "ax1.set_ylabel('y', fontsize=14, style='italic')\n",
        "# plot cosine wave in the second subplot\n",
        "ax2.plot(x, y_cos)\n",
        "ax2.set_title('Cosine wave')\n",
        "ax2.set_ylabel('y', fontsize=14, style='italic')\n",
        "# this axis is shared by two subplots\n",
        "ax2.set_xlabel('x (rad)', fontsize=14, style='italic')"
      ],
      "execution_count": 0,
      "outputs": [
        {
          "output_type": "execute_result",
          "data": {
            "text/plain": [
              "Text(0.5, 0, 'x (rad)')"
            ]
          },
          "metadata": {
            "tags": []
          },
          "execution_count": 3
        },
        {
          "output_type": "display_data",
          "data": {
            "image/png": "[encoded data removed]",
            "text/plain": [
              "<Figure size 576x576 with 2 Axes>"
            ]
          },
          "metadata": {
            "tags": []
          }
        }
      ]
    },
    {
      "cell_type": "markdown",
      "metadata": {
        "id": "exESruHD_X4M",
        "colab_type": "text"
      },
      "source": [
        "## Forms"
      ]
    },
    {
      "cell_type": "markdown",
      "metadata": {
        "id": "p_e5IYOdCUcX",
        "colab_type": "text"
      },
      "source": [
        "You can use forms to parameterize your code. To add a form, use *Insert --> Add form field*.  Everytime you change the value in a form, the corresponding value in the code cell will adjust accordingly. Press SHIFT+ENTER or \"PLAY\" button on the left side to run the cell. In the example below we can adjust $a$ and $b$ parameters for $y = a sin(bx)$ function, level of noise and a figure size:"
      ]
    },
    {
      "cell_type": "code",
      "metadata": {
        "id": "i6Vr2Z9Q_ncJ",
        "colab_type": "code",
        "cellView": "both",
        "outputId": "f839bf67-f65e-4c54-80e6-28fccb45b6bb",
        "colab": {
          "base_uri": "https://localhost:8080/",
          "height": 517
        }
      },
      "source": [
        "#@title _y=asin(bx+c)_ parameters, noise level and figure size\n",
        "a = 1 #@param {type:\"slider\", min:0.5, max:5, step:0.1}\n",
        "b = 1.9 #@param {type:\"slider\", min:0.5, max:5, step:0.1}\n",
        "c = 0 #@param {type: \"slider\", min:0, max:5, step:0.1}\n",
        "noise = 0.1 #@param {type:\"slider\", min:0, max:1, step:0.1}\n",
        "fig_size = 8 #@param {type:\"slider\", min:4, max:10, step:1}\n",
        "\n",
        "x = np.arange(-10, 10, 0.01)\n",
        "y_sin = a*np.sin(b*x) + c + noise*np.random.normal(size=x.shape)\n",
        "plt.figure(figsize=(fig_size, fig_size))\n",
        "plt.plot(x, y_sin)\n",
        "plt.xlabel('x', fontsize=14, style='italic')\n",
        "plt.ylabel('y', fontsize=14, style='italic')\n",
        "plt.title('Sine wave')\n",
        "plt.show()"
      ],
      "execution_count": 0,
      "outputs": [
        {
          "output_type": "display_data",
          "data": {
            "image/png": "[encoded data removed]",
            "text/plain": [
              "<Figure size 576x576 with 1 Axes>"
            ]
          },
          "metadata": {
            "tags": []
          }
        }
      ]
    },
    {
      "cell_type": "markdown",
      "metadata": {
        "id": "BrdTXAuy1Oym",
        "colab_type": "text"
      },
      "source": [
        "Notice that you can also hide the entire code field (*More cell actions --> Form --> Hide code*)."
      ]
    },
    {
      "cell_type": "markdown",
      "metadata": {
        "id": "yir7C8XjKmvC",
        "colab_type": "text"
      },
      "source": [
        "## Shell commands"
      ]
    },
    {
      "cell_type": "markdown",
      "metadata": {
        "id": "5_vA9wnlKrhR",
        "colab_type": "text"
      },
      "source": [
        "You can invoke shell commands by using either  `%%shell`  or  `%%bash` [\"cell magics\"](https://ipython.readthedocs.io/en/stable/interactive/magics.html#cell-magics) or by prefixing the command with `!` ."
      ]
    },
    {
      "cell_type": "markdown",
      "metadata": {
        "id": "r9G-TwSwIg0C",
        "colab_type": "text"
      },
      "source": [
        "Notice that usually it is more practical to use a \"scratch cell\" for interacting with a shell instead of adding additional cells to your notebook, especially for one-line shell commands (*Insert* --> *Scratch code cell* or Ctrl+Alt+N shortcut) : <br><br>\n",
        "\n",
        "<img src =\"https://drive.google.com/uc?export=view&id=1akLBq93g6zHLcWH3oc8SB3DJPlb5dZ-m\" width=800 px>"
      ]
    },
    {
      "cell_type": "markdown",
      "metadata": {
        "id": "sopDU856VDMk",
        "colab_type": "text"
      },
      "source": [
        "The following command will list files and sub-directories in the current directory:"
      ]
    },
    {
      "cell_type": "code",
      "metadata": {
        "id": "4-5Pn03qLIDi",
        "colab_type": "code",
        "outputId": "88ec5c81-4af4-4997-820a-179187aa76fa",
        "colab": {
          "base_uri": "https://localhost:8080/",
          "height": 35
        }
      },
      "source": [
        "!ls"
      ],
      "execution_count": 0,
      "outputs": [
        {
          "output_type": "stream",
          "text": [
            "sample_data\n"
          ],
          "name": "stdout"
        }
      ]
    },
    {
      "cell_type": "markdown",
      "metadata": {
        "id": "JvSTxGcyLa_b",
        "colab_type": "text"
      },
      "source": [
        "Let's create an empty directory. We first confirm that a directotry with such name doesn't already exist. Since this will result in multiple lines of code, we use `%%bash` command at the beginning of the cell, which indicates that all the code lines in this cell should be interpreted as shell commands."
      ]
    },
    {
      "cell_type": "code",
      "metadata": {
        "id": "xB78yEw8LNh0",
        "colab_type": "code",
        "colab": {}
      },
      "source": [
        "%%bash\n",
        "newdir=\"ColabIntro\"\n",
        "if [ ! -d $newdir ]; then\n",
        "  mkdir $newdir\n",
        "fi"
      ],
      "execution_count": 0,
      "outputs": []
    },
    {
      "cell_type": "markdown",
      "metadata": {
        "id": "xJiI-UdkLgcH",
        "colab_type": "text"
      },
      "source": [
        "View again files and directories in the current folder. You should now be able to see a new folder that we've just created."
      ]
    },
    {
      "cell_type": "code",
      "metadata": {
        "id": "QpoGjX05L-Sj",
        "colab_type": "code",
        "outputId": "9125bdd4-02a6-402c-f078-e09d4518f571",
        "colab": {
          "base_uri": "https://localhost:8080/",
          "height": 35
        }
      },
      "source": [
        "!ls"
      ],
      "execution_count": 0,
      "outputs": [
        {
          "output_type": "stream",
          "text": [
            "ColabIntro  sample_data\n"
          ],
          "name": "stdout"
        }
      ]
    },
    {
      "cell_type": "markdown",
      "metadata": {
        "id": "6RIf0uSPHGt7",
        "colab_type": "text"
      },
      "source": [
        "We can view a content of our new directory, which should be empty:"
      ]
    },
    {
      "cell_type": "code",
      "metadata": {
        "id": "Wy1ezWQiHNAF",
        "colab_type": "code",
        "colab": {}
      },
      "source": [
        "!ls ColabIntro"
      ],
      "execution_count": 0,
      "outputs": []
    },
    {
      "cell_type": "markdown",
      "metadata": {
        "id": "QZ926FpwNkb4",
        "colab_type": "text"
      },
      "source": [
        "Let's create a text file inside our new directory. We will place a \"Hello World\" greeting on the first line of this text file:"
      ]
    },
    {
      "cell_type": "code",
      "metadata": {
        "id": "JhGHmDBBMMRz",
        "colab_type": "code",
        "colab": {}
      },
      "source": [
        "!echo \"Hello World\" > ColabIntro/test.txt "
      ],
      "execution_count": 0,
      "outputs": []
    },
    {
      "cell_type": "markdown",
      "metadata": {
        "id": "Bkp3_dQONth7",
        "colab_type": "text"
      },
      "source": [
        "View content of our new folder. We should be able to see the text file we just created."
      ]
    },
    {
      "cell_type": "code",
      "metadata": {
        "id": "Q9S3SOOzMeBy",
        "colab_type": "code",
        "outputId": "e7731e1e-9895-42bb-b5bd-47423820f2a6",
        "colab": {
          "base_uri": "https://localhost:8080/",
          "height": 35
        }
      },
      "source": [
        "!ls ColabIntro"
      ],
      "execution_count": 0,
      "outputs": [
        {
          "output_type": "stream",
          "text": [
            "test.txt\n"
          ],
          "name": "stdout"
        }
      ]
    },
    {
      "cell_type": "markdown",
      "metadata": {
        "id": "Y1LnXKPaN5hz",
        "colab_type": "text"
      },
      "source": [
        "We can read a text file with `cat` command"
      ]
    },
    {
      "cell_type": "code",
      "metadata": {
        "id": "jLgPsNALMlzb",
        "colab_type": "code",
        "outputId": "3af5f194-b741-4109-e64c-8e468914203a",
        "colab": {
          "base_uri": "https://localhost:8080/",
          "height": 35
        }
      },
      "source": [
        "!cat ColabIntro/test.txt"
      ],
      "execution_count": 0,
      "outputs": [
        {
          "output_type": "stream",
          "text": [
            "Hello World\n"
          ],
          "name": "stdout"
        }
      ]
    },
    {
      "cell_type": "markdown",
      "metadata": {
        "id": "7PZMmGZuH16c",
        "colab_type": "text"
      },
      "source": [
        "We can also move or copy files between directories directly from a notebook. In the example below we copy the created text file to our root folder:"
      ]
    },
    {
      "cell_type": "code",
      "metadata": {
        "id": "7lhglgu1IDcf",
        "colab_type": "code",
        "outputId": "9d366572-e87b-4671-f9fb-7b3a6a9016cc",
        "colab": {
          "base_uri": "https://localhost:8080/",
          "height": 35
        }
      },
      "source": [
        "!cp ColabIntro/test.txt ./\n",
        "!ls"
      ],
      "execution_count": 0,
      "outputs": [
        {
          "output_type": "stream",
          "text": [
            "ColabIntro  sample_data  test.txt\n"
          ],
          "name": "stdout"
        }
      ]
    },
    {
      "cell_type": "markdown",
      "metadata": {
        "id": "bH2LsgR6MxqX",
        "colab_type": "text"
      },
      "source": [
        "We can also write individual Python files to \"disk\" directly from a notebook. For example, it is common to store utility (\"helper\") functions defined in your notebook for some data analysis procedures in a separate python module (called e.g. utils.py) and then import them into the notebook. We can write a file to disk (virtual storage or GDrive) either with standard shell commands or with a notebook \"magic\" command (preferred). Let's first do it with a standard shell command:"
      ]
    },
    {
      "cell_type": "code",
      "metadata": {
        "id": "prRhCIEMMAs3",
        "colab_type": "code",
        "colab": {}
      },
      "source": [
        "%%bash\n",
        "echo \"\"\"# -*- coding: utf-8 -*-\n",
        "'''util functions'''\n",
        "\n",
        "##### Import necessary modules #####\n",
        "\n",
        "def util1():\n",
        "    '''Brief description'''\n",
        "    \n",
        "    ##### Function body #####\n",
        "    \n",
        "    return\"\"\" > utils1.py"
      ],
      "execution_count": 0,
      "outputs": []
    },
    {
      "cell_type": "markdown",
      "metadata": {
        "id": "x5kJaXxWPmLo",
        "colab_type": "text"
      },
      "source": [
        "View the Python file we just created:"
      ]
    },
    {
      "cell_type": "code",
      "metadata": {
        "id": "RbzY6kQENqPt",
        "colab_type": "code",
        "outputId": "d3972cbf-d03d-409e-9512-09ae1d6068d4",
        "colab": {
          "base_uri": "https://localhost:8080/",
          "height": 217
        }
      },
      "source": [
        "!cat utils1.py"
      ],
      "execution_count": 0,
      "outputs": [
        {
          "output_type": "stream",
          "text": [
            "# -*- coding: utf-8 -*-\n",
            "'''util functions'''\n",
            "\n",
            "##### Import necessary modules #####\n",
            "\n",
            "def util1():\n",
            "    '''Brief description'''\n",
            "    \n",
            "    ##### Function body #####\n",
            "    \n",
            "    return\n"
          ],
          "name": "stdout"
        }
      ]
    },
    {
      "cell_type": "markdown",
      "metadata": {
        "id": "FrIL5G8GNhaO",
        "colab_type": "text"
      },
      "source": [
        "Append to the already existing python file (e.g. add another utility function):"
      ]
    },
    {
      "cell_type": "code",
      "metadata": {
        "id": "e4IT6t-nNBku",
        "colab_type": "code",
        "colab": {}
      },
      "source": [
        "%%bash\n",
        "echo \"\"\"\n",
        "def util2():\n",
        "    '''Brief description'''\n",
        "    \n",
        "    ##### Function body #####\n",
        "    \n",
        "    return\"\"\" >> utils1.py"
      ],
      "execution_count": 0,
      "outputs": []
    },
    {
      "cell_type": "markdown",
      "metadata": {
        "id": "KzSXrhe_PxXW",
        "colab_type": "text"
      },
      "source": [
        "View our Python file again:"
      ]
    },
    {
      "cell_type": "code",
      "metadata": {
        "id": "wFA2mtRQNvN6",
        "colab_type": "code",
        "outputId": "052d8573-cee9-434e-945c-a6d408a66c1c",
        "colab": {
          "base_uri": "https://localhost:8080/",
          "height": 345
        }
      },
      "source": [
        "!cat utils1.py"
      ],
      "execution_count": 0,
      "outputs": [
        {
          "output_type": "stream",
          "text": [
            "# -*- coding: utf-8 -*-\n",
            "'''util functions'''\n",
            "\n",
            "##### Import necessary modules #####\n",
            "\n",
            "def util1():\n",
            "    '''Brief description'''\n",
            "    \n",
            "    ##### Function body #####\n",
            "    \n",
            "    return\n",
            "\n",
            "def util2():\n",
            "    '''Brief description'''\n",
            "    \n",
            "    ##### Function body #####\n",
            "    \n",
            "    return\n"
          ],
          "name": "stdout"
        }
      ]
    },
    {
      "cell_type": "markdown",
      "metadata": {
        "id": "UpTOFJmVJSyi",
        "colab_type": "text"
      },
      "source": [
        "However it is much easier to write and edit+overwrite individual files with `%%writefile` \"magic\" command:"
      ]
    },
    {
      "cell_type": "code",
      "metadata": {
        "id": "WPb5HrAGIUQh",
        "colab_type": "code",
        "outputId": "1c4643bb-e38b-4342-8f42-1f9e0d5b235e",
        "colab": {
          "base_uri": "https://localhost:8080/",
          "height": 35
        }
      },
      "source": [
        "%%writefile utils2.py\n",
        "# -*- coding: utf-8 -*-\n",
        "\"\"\"util functions\"\"\"\n",
        "\n",
        "##### Import necessary modules #####\n",
        "\n",
        "def util1():\n",
        "    \"\"\"Brief description\"\"\"\n",
        "    \n",
        "    ##### Function body #####\n",
        "    \n",
        "    return\n",
        "\n",
        "def util2():\n",
        "    \"\"\"Brief description\"\"\"\n",
        "    \n",
        "    ##### Function body #####\n",
        "    \n",
        "    return"
      ],
      "execution_count": 0,
      "outputs": [
        {
          "output_type": "stream",
          "text": [
            "Writing utils2.py\n"
          ],
          "name": "stdout"
        }
      ]
    },
    {
      "cell_type": "markdown",
      "metadata": {
        "id": "3cW8dMfKdVq_",
        "colab_type": "text"
      },
      "source": [
        "View file content:"
      ]
    },
    {
      "cell_type": "code",
      "metadata": {
        "id": "wNfmQPZoKFtU",
        "colab_type": "code",
        "outputId": "98a0168d-6b7e-4954-c334-5cef72f8e25d",
        "colab": {
          "base_uri": "https://localhost:8080/",
          "height": 345
        }
      },
      "source": [
        "!cat utils2.py"
      ],
      "execution_count": 0,
      "outputs": [
        {
          "output_type": "stream",
          "text": [
            "# -*- coding: utf-8 -*-\n",
            "\"\"\"util functions\"\"\"\n",
            "\n",
            "##### Import necessary modules #####\n",
            "\n",
            "def util1():\n",
            "    \"\"\"Brief description\"\"\"\n",
            "    \n",
            "    ##### Function body #####\n",
            "    \n",
            "    return\n",
            "\n",
            "def util2():\n",
            "    \"\"\"Brief description\"\"\"\n",
            "    \n",
            "    ##### Function body #####\n",
            "    \n",
            "    return"
          ],
          "name": "stdout"
        }
      ]
    },
    {
      "cell_type": "markdown",
      "metadata": {
        "id": "JrF12-bqPKPm",
        "colab_type": "text"
      },
      "source": [
        "Finally to download a large file from a google drive into your notebook, you can use a [gdown](https://pypi.org/project/gdown/) command followed by a *download* link. The difference between shared link and download link is that you need to replace 'open' with 'uc' in the link address. For example, this won't work:"
      ]
    },
    {
      "cell_type": "code",
      "metadata": {
        "id": "-W5kGPe1PlMd",
        "colab_type": "code",
        "outputId": "d95450fc-1790-469c-bfe7-64f173af6797",
        "colab": {
          "base_uri": "https://localhost:8080/",
          "height": 146
        }
      },
      "source": [
        "!gdown https://drive.google.com/open?id=1nJZ9OmrbHVLZIRlCylb5cYrOxnqBLCYq"
      ],
      "execution_count": 0,
      "outputs": [
        {
          "output_type": "stream",
          "text": [
            "/usr/local/lib/python2.7/dist-packages/gdown/parse_url.py:31: UserWarning: You specified Google Drive Link but it is not the correct link to download the file. Maybe you should try: https://drive.google.com/uc?id=1nJZ9OmrbHVLZIRlCylb5cYrOxnqBLCYq\n",
            "  .format(url='https://drive.google.com/uc?id={}'.format(file_id))\n",
            "Downloading...\n",
            "From: https://drive.google.com/open?id=1nJZ9OmrbHVLZIRlCylb5cYrOxnqBLCYq\n",
            "To: /content/open?id=1nJZ9OmrbHVLZIRlCylb5cYrOxnqBLCYq\n",
            "122kB [00:00, 1.14MB/s]\n"
          ],
          "name": "stdout"
        }
      ]
    },
    {
      "cell_type": "markdown",
      "metadata": {
        "id": "mkN0EQSvP7BH",
        "colab_type": "text"
      },
      "source": [
        "But once you change 'open' to 'uc' it starts working:"
      ]
    },
    {
      "cell_type": "code",
      "metadata": {
        "id": "W6KVbRNGQCCV",
        "colab_type": "code",
        "outputId": "45f241ee-b5fa-48e5-ec35-befacd4230dd",
        "colab": {
          "base_uri": "https://localhost:8080/",
          "height": 90
        }
      },
      "source": [
        "!gdown https://drive.google.com/uc?id=1nJZ9OmrbHVLZIRlCylb5cYrOxnqBLCYq"
      ],
      "execution_count": 0,
      "outputs": [
        {
          "output_type": "stream",
          "text": [
            "Downloading...\n",
            "From: https://drive.google.com/uc?id=1nJZ9OmrbHVLZIRlCylb5cYrOxnqBLCYq\n",
            "To: /content/atom2.npy\n",
            "\r  0% 0.00/13.6k [00:00<?, ?B/s]\r100% 13.6k/13.6k [00:00<00:00, 12.5MB/s]\n"
          ],
          "name": "stdout"
        }
      ]
    },
    {
      "cell_type": "markdown",
      "metadata": {
        "id": "zJv9zttQNc-j",
        "colab_type": "text"
      },
      "source": [
        "Now let's remove the directory and file(s) we created:"
      ]
    },
    {
      "cell_type": "code",
      "metadata": {
        "id": "BGRC4zyxNVpB",
        "colab_type": "code",
        "outputId": "b8331eff-d111-477e-f4e3-f081d79fec42",
        "colab": {
          "base_uri": "https://localhost:8080/",
          "height": 35
        }
      },
      "source": [
        "!rm -r ColabIntro test.txt *.py *.npy open?*\n",
        "!ls"
      ],
      "execution_count": 0,
      "outputs": [
        {
          "output_type": "stream",
          "text": [
            "sample_data\n"
          ],
          "name": "stdout"
        }
      ]
    },
    {
      "cell_type": "markdown",
      "metadata": {
        "id": "kUZo3FwaiUjH",
        "colab_type": "text"
      },
      "source": [
        "## Simple PyTorch operations"
      ]
    },
    {
      "cell_type": "markdown",
      "metadata": {
        "id": "O6U6_qCLhwom",
        "colab_type": "text"
      },
      "source": [
        " Let's now do some basic math operations with [PyTorch](https://pytorch.org/). PyTorch is a computational framework for building deep machine learning models. Here, however, we will use PyTorch for some high-school math first and then for a simple regression task.\n",
        " \n",
        " Import PyTorch:"
      ]
    },
    {
      "cell_type": "code",
      "metadata": {
        "id": "1tomlwVkhHEa",
        "colab_type": "code",
        "colab": {}
      },
      "source": [
        "import torch"
      ],
      "execution_count": 0,
      "outputs": []
    },
    {
      "cell_type": "markdown",
      "metadata": {
        "id": "9-D3t2YSkPJz",
        "colab_type": "text"
      },
      "source": [
        "Define some tensors:"
      ]
    },
    {
      "cell_type": "code",
      "metadata": {
        "id": "BK1PUGkdh3PC",
        "colab_type": "code",
        "colab": {}
      },
      "source": [
        "# Create 3-by-3 tensor containing random numbers\n",
        "a = torch.rand(3, 3)\n",
        "# Create 3-by-3 tensor containing all ones\n",
        "b = torch.ones(3, 3)\n",
        "# Create identity 3-by-3 tensor\n",
        "c = torch.eye(3, 3)"
      ],
      "execution_count": 0,
      "outputs": []
    },
    {
      "cell_type": "markdown",
      "metadata": {
        "id": "QDZHcdNtEKsr",
        "colab_type": "text"
      },
      "source": [
        "View the tensors we just defined:"
      ]
    },
    {
      "cell_type": "code",
      "metadata": {
        "id": "mCprQr45EQHf",
        "colab_type": "code",
        "outputId": "0acd9d27-1cce-40f5-d98e-fdef69989159",
        "colab": {
          "base_uri": "https://localhost:8080/",
          "height": 181
        }
      },
      "source": [
        "print(a, type(a))\n",
        "print(b, type(b))\n",
        "print(c, type(c))"
      ],
      "execution_count": 0,
      "outputs": [
        {
          "output_type": "stream",
          "text": [
            "tensor([[0.1404, 0.6791, 0.4896],\n",
            "        [0.9399, 0.7478, 0.0819],\n",
            "        [0.7821, 0.3413, 0.6969]]) <class 'torch.Tensor'>\n",
            "tensor([[1., 1., 1.],\n",
            "        [1., 1., 1.],\n",
            "        [1., 1., 1.]]) <class 'torch.Tensor'>\n",
            "tensor([[1., 0., 0.],\n",
            "        [0., 1., 0.],\n",
            "        [0., 0., 1.]]) <class 'torch.Tensor'>\n"
          ],
          "name": "stdout"
        }
      ]
    },
    {
      "cell_type": "markdown",
      "metadata": {
        "id": "CPU0DuixkTh-",
        "colab_type": "text"
      },
      "source": [
        "Subtract/add:"
      ]
    },
    {
      "cell_type": "code",
      "metadata": {
        "id": "4xa5tpwciF_-",
        "colab_type": "code",
        "colab": {}
      },
      "source": [
        "d = torch.sub(b, a)\n",
        "e = torch.add(b, c)"
      ],
      "execution_count": 0,
      "outputs": []
    },
    {
      "cell_type": "markdown",
      "metadata": {
        "id": "JBq1TGKEkU5V",
        "colab_type": "text"
      },
      "source": [
        "View results:"
      ]
    },
    {
      "cell_type": "code",
      "metadata": {
        "id": "oPBvNs9Zi30T",
        "colab_type": "code",
        "outputId": "692ffb78-13a1-4517-a17a-d1a84285861a",
        "colab": {
          "base_uri": "https://localhost:8080/",
          "height": 126
        }
      },
      "source": [
        "print(d, type(d))\n",
        "print(e, type(e))"
      ],
      "execution_count": 0,
      "outputs": [
        {
          "output_type": "stream",
          "text": [
            "tensor([[0.8596, 0.3209, 0.5104],\n",
            "        [0.0601, 0.2522, 0.9181],\n",
            "        [0.2179, 0.6587, 0.3031]]) <class 'torch.Tensor'>\n",
            "tensor([[2., 1., 1.],\n",
            "        [1., 2., 1.],\n",
            "        [1., 1., 2.]]) <class 'torch.Tensor'>\n"
          ],
          "name": "stdout"
        }
      ]
    },
    {
      "cell_type": "markdown",
      "metadata": {
        "id": "pAp2eAGy0XOB",
        "colab_type": "text"
      },
      "source": [
        "It easy to convert between torch tensor class and \"standard\" python numpy array:"
      ]
    },
    {
      "cell_type": "code",
      "metadata": {
        "id": "k-c6xMsv0Wqy",
        "colab_type": "code",
        "outputId": "54c0162d-4d97-4c0a-e16f-e7b9ee968b93",
        "colab": {
          "base_uri": "https://localhost:8080/",
          "height": 126
        }
      },
      "source": [
        "e = e.numpy() # torch tensor --> numpy\n",
        "print(e, type(e))\n",
        "e = torch.from_numpy(e) # numpy --> torch tensor\n",
        "print(e, type(e))"
      ],
      "execution_count": 0,
      "outputs": [
        {
          "output_type": "stream",
          "text": [
            "[[2. 1. 1.]\n",
            " [1. 2. 1.]\n",
            " [1. 1. 2.]] <class 'numpy.ndarray'>\n",
            "tensor([[2., 1., 1.],\n",
            "        [1., 2., 1.],\n",
            "        [1., 1., 2.]]) <class 'torch.Tensor'>\n"
          ],
          "name": "stdout"
        }
      ]
    },
    {
      "cell_type": "markdown",
      "metadata": {
        "id": "7Fzdw5ZlFYZz",
        "colab_type": "text"
      },
      "source": [
        "We can also concatenate tensors along the specified axis, e.g. here we concatenate two 2d tensors along their rows (dimension 0)"
      ]
    },
    {
      "cell_type": "code",
      "metadata": {
        "id": "XsOUGYbsE3-O",
        "colab_type": "code",
        "outputId": "b6f51cc9-1677-41e3-929f-f83c23628fbe",
        "colab": {
          "base_uri": "https://localhost:8080/",
          "height": 126
        }
      },
      "source": [
        "bc = torch.cat((b, c), dim=0)\n",
        "print(bc, bc.size())"
      ],
      "execution_count": 0,
      "outputs": [
        {
          "output_type": "stream",
          "text": [
            "tensor([[1., 1., 1.],\n",
            "        [1., 1., 1.],\n",
            "        [1., 1., 1.],\n",
            "        [1., 0., 0.],\n",
            "        [0., 1., 0.],\n",
            "        [0., 0., 1.]]) torch.Size([6, 3])\n"
          ],
          "name": "stdout"
        }
      ]
    },
    {
      "cell_type": "markdown",
      "metadata": {
        "id": "fXJbJv_gFfZ9",
        "colab_type": "text"
      },
      "source": [
        "Concatenation along columns (dimension 1). Also notice that by running the cell below we will override the `bc` variable defined in the cell above."
      ]
    },
    {
      "cell_type": "code",
      "metadata": {
        "id": "q3a4qQnwFJ58",
        "colab_type": "code",
        "outputId": "5d405236-2705-4314-9455-b634d7498b52",
        "colab": {
          "base_uri": "https://localhost:8080/",
          "height": 72
        }
      },
      "source": [
        "bc = torch.cat((b, c), dim=1)\n",
        "print(bc, bc.size())"
      ],
      "execution_count": 0,
      "outputs": [
        {
          "output_type": "stream",
          "text": [
            "tensor([[1., 1., 1., 1., 0., 0.],\n",
            "        [1., 1., 1., 0., 1., 0.],\n",
            "        [1., 1., 1., 0., 0., 1.]]) torch.Size([3, 6])\n"
          ],
          "name": "stdout"
        }
      ]
    },
    {
      "cell_type": "markdown",
      "metadata": {
        "id": "JnMkhEiZhgvZ",
        "colab_type": "text"
      },
      "source": [
        "One of the main advantages of using pytorch tensors is that you can transfer them to GPU device for faster computations involving tensor operations (which you cannot do for a regular numpy array). We can view a number of available GPU device by running a cell below (you can turn off/on a GPU support in *Runtime --> Change runtime type*)."
      ]
    },
    {
      "cell_type": "code",
      "metadata": {
        "id": "CIgYDPlJjgj7",
        "colab_type": "code",
        "outputId": "674574b2-a0ef-4893-8916-2eb3c336ef76",
        "colab": {
          "base_uri": "https://localhost:8080/",
          "height": 35
        }
      },
      "source": [
        "torch.cuda.device_count()"
      ],
      "execution_count": 0,
      "outputs": [
        {
          "output_type": "execute_result",
          "data": {
            "text/plain": [
              "1"
            ]
          },
          "metadata": {
            "tags": []
          },
          "execution_count": 39
        }
      ]
    },
    {
      "cell_type": "markdown",
      "metadata": {
        "id": "EQK0Q2IPkUPt",
        "colab_type": "text"
      },
      "source": [
        "We can also get a [name of GPU](https://en.wikipedia.org/wiki/Nvidia_Tesla) that is available:"
      ]
    },
    {
      "cell_type": "code",
      "metadata": {
        "id": "womPRz3FjklX",
        "colab_type": "code",
        "outputId": "2a061e81-4c7c-45c5-e712-125824ca450a",
        "colab": {
          "base_uri": "https://localhost:8080/",
          "height": 35
        }
      },
      "source": [
        "torch.cuda.get_device_name(0)"
      ],
      "execution_count": 0,
      "outputs": [
        {
          "output_type": "execute_result",
          "data": {
            "text/plain": [
              "'Tesla T4'"
            ]
          },
          "metadata": {
            "tags": []
          },
          "execution_count": 2
        }
      ]
    },
    {
      "cell_type": "markdown",
      "metadata": {
        "id": "mREWfU07junk",
        "colab_type": "text"
      },
      "source": [
        " Here we transfer our concatenated tensor to a GPU device:"
      ]
    },
    {
      "cell_type": "code",
      "metadata": {
        "id": "tAyjeDeohJbn",
        "colab_type": "code",
        "outputId": "f91d3fb4-c810-40c3-c7b0-717943bdf376",
        "colab": {
          "base_uri": "https://localhost:8080/",
          "height": 72
        }
      },
      "source": [
        "bc = bc.cuda()\n",
        "print(bc)"
      ],
      "execution_count": 0,
      "outputs": [
        {
          "output_type": "stream",
          "text": [
            "tensor([[1., 1., 1., 1., 0., 0.],\n",
            "        [1., 1., 1., 0., 1., 0.],\n",
            "        [1., 1., 1., 0., 0., 1.]], device='cuda:0')\n"
          ],
          "name": "stdout"
        }
      ]
    },
    {
      "cell_type": "markdown",
      "metadata": {
        "id": "pNLsMJpWiYxO",
        "colab_type": "text"
      },
      "source": [
        "Confirm that the tensor is \"sitting\" on GPU device:"
      ]
    },
    {
      "cell_type": "code",
      "metadata": {
        "id": "JVLlZx3mhMpl",
        "colab_type": "code",
        "outputId": "15c9c62b-48f7-44ed-a3cc-2db6998909b7",
        "colab": {
          "base_uri": "https://localhost:8080/",
          "height": 35
        }
      },
      "source": [
        "bc.is_cuda"
      ],
      "execution_count": 0,
      "outputs": [
        {
          "output_type": "execute_result",
          "data": {
            "text/plain": [
              "True"
            ]
          },
          "metadata": {
            "tags": []
          },
          "execution_count": 42
        }
      ]
    },
    {
      "cell_type": "markdown",
      "metadata": {
        "id": "WB2iiDkqieU-",
        "colab_type": "text"
      },
      "source": [
        "Now transfer it back to cpu:"
      ]
    },
    {
      "cell_type": "code",
      "metadata": {
        "id": "IJJR8GoxhVNi",
        "colab_type": "code",
        "outputId": "6ea953c5-3d51-4a83-e537-58d91a5b8c67",
        "colab": {
          "base_uri": "https://localhost:8080/",
          "height": 72
        }
      },
      "source": [
        "bc = bc.cpu()\n",
        "print(bc)"
      ],
      "execution_count": 0,
      "outputs": [
        {
          "output_type": "stream",
          "text": [
            "tensor([[1., 1., 1., 1., 0., 0.],\n",
            "        [1., 1., 1., 0., 1., 0.],\n",
            "        [1., 1., 1., 0., 0., 1.]])\n"
          ],
          "name": "stdout"
        }
      ]
    },
    {
      "cell_type": "markdown",
      "metadata": {
        "id": "UcPQGPNSijFr",
        "colab_type": "text"
      },
      "source": [
        "Confirm that it is no longer on GPU device:"
      ]
    },
    {
      "cell_type": "code",
      "metadata": {
        "id": "rOcgdxWvhX5O",
        "colab_type": "code",
        "outputId": "dbc9a4eb-b34b-41f4-ec1b-5aee6abd3b98",
        "colab": {
          "base_uri": "https://localhost:8080/",
          "height": 35
        }
      },
      "source": [
        "bc.is_cuda"
      ],
      "execution_count": 0,
      "outputs": [
        {
          "output_type": "execute_result",
          "data": {
            "text/plain": [
              "False"
            ]
          },
          "metadata": {
            "tags": []
          },
          "execution_count": 44
        }
      ]
    },
    {
      "cell_type": "markdown",
      "metadata": {
        "id": "lQ6znx6tk06h",
        "colab_type": "text"
      },
      "source": [
        "We will be using this simple operation to transfer a neural network model and training data between between CPU and GPU in the next section."
      ]
    },
    {
      "cell_type": "markdown",
      "metadata": {
        "id": "vLqsUj8Wg3Zy",
        "colab_type": "text"
      },
      "source": [
        "**Small caveat:** Our numpy arrays are 64 bit floating point number by default, which is cast to DoubleTensor when `torch.from_numpy()` is called. When training our model, however, our weights will be FloatTensor (32 bit floating point) by default. This mismatch will cause an error. The easiest solution is to cast a DoubleTensor to FloatTensor by simply calling `.float()`, i.e. `bc = torch.from_numpy(bc).float()`."
      ]
    },
    {
      "cell_type": "markdown",
      "metadata": {
        "id": "QaVt43AzrzFj",
        "colab_type": "text"
      },
      "source": [
        "## Simple regression analysis with PyTorch"
      ]
    },
    {
      "cell_type": "markdown",
      "metadata": {
        "id": "VYgFE2GP6xJ4",
        "colab_type": "text"
      },
      "source": [
        "Neural networks are [universal function approximator](https://en.wikipedia.org/wiki/Universal_approximation_theorem). Here as an example we will generate data points using a *sin* function, corrupt the produced data by random noise and then will \"fit\" the target distribution with a neural network. The data will be generated with PyTorch instead of numpy module (but notice many similarities):"
      ]
    },
    {
      "cell_type": "code",
      "metadata": {
        "id": "ZD3-WhLs-wbZ",
        "colab_type": "code",
        "colab": {}
      },
      "source": [
        "torch.manual_seed(42)\n",
        "x = torch.unsqueeze(torch.arange(-10, 10, 0.01), dim=1)\n",
        "y = torch.sin(x) + 0.2*torch.rand(x.size())"
      ],
      "execution_count": 0,
      "outputs": []
    },
    {
      "cell_type": "markdown",
      "metadata": {
        "id": "r0CxPIG8ArLM",
        "colab_type": "text"
      },
      "source": [
        "Plot the generated data:"
      ]
    },
    {
      "cell_type": "code",
      "metadata": {
        "id": "UKOAUTCB_DIN",
        "colab_type": "code",
        "outputId": "df1df343-0839-4a07-cf30-1e5dcc9cb303",
        "colab": {
          "base_uri": "https://localhost:8080/",
          "height": 359
        }
      },
      "source": [
        "_, ax = plt.subplots(1, 1, figsize=(8, 5))\n",
        "ax.scatter(x, y, s=3)\n",
        "ax.set_xlabel('x', fontsize=14, style='italic')\n",
        "ax.set_ylabel('y', fontsize=14, style='italic')"
      ],
      "execution_count": 0,
      "outputs": [
        {
          "output_type": "execute_result",
          "data": {
            "text/plain": [
              "Text(0, 0.5, 'y')"
            ]
          },
          "metadata": {
            "tags": []
          },
          "execution_count": 10
        },
        {
          "output_type": "display_data",
          "data": {
            "image/png": "[encoded data removed]",
            "text/plain": [
              "<Figure size 576x360 with 1 Axes>"
            ]
          },
          "metadata": {
            "tags": []
          }
        }
      ]
    },
    {
      "cell_type": "markdown",
      "metadata": {
        "id": "lKY_X04Wcfxx",
        "colab_type": "text"
      },
      "source": [
        "We now constuct a simple neural network to fit the data without any prior knowledge by the neural network about what function was used to produce the data. Our neural network has just two [standard \"linear layers\"](https://en.wikipedia.org/wiki/Multilayer_perceptron), each with 100 neurons, activated by leaky rectified linear unit function. We then specify parameters for model training (weights optimizer and loss function/criterion) and move it to GPU device for faster computations."
      ]
    },
    {
      "cell_type": "code",
      "metadata": {
        "id": "Td1tsIA8BXP6",
        "colab_type": "code",
        "colab": {}
      },
      "source": [
        "# Construct model\n",
        "model = torch.nn.Sequential(\n",
        "        torch.nn.Linear(in_features=1, out_features=100),\n",
        "        torch.nn.LeakyReLU(),\n",
        "        torch.nn.Linear(in_features=100, out_features=100),\n",
        "        torch.nn.LeakyReLU(),\n",
        "        torch.nn.Linear(in_features=100, out_features=1),\n",
        "    )\n",
        "# Move our model together with the training data to GPU device\n",
        "model.cuda()\n",
        "x = x.cuda()\n",
        "y = y.cuda()\n",
        "# Specify optimizer and loss function for neural network training\n",
        "optimizer = torch.optim.SGD(model.parameters(), lr=1e-3, momentum=0.9) #stochastic gradient descent\n",
        "criterion = torch.nn.MSELoss() #mean-squared loss"
      ],
      "execution_count": 0,
      "outputs": []
    },
    {
      "cell_type": "markdown",
      "metadata": {
        "id": "wSEM2ih3AZxp",
        "colab_type": "text"
      },
      "source": [
        "Finally, we train our simple model:\n",
        "\n",
        "(this shouldn't take more than one minute)"
      ]
    },
    {
      "cell_type": "code",
      "metadata": {
        "id": "nMbfh96I-wnP",
        "colab_type": "code",
        "outputId": "41e217fe-1e36-4dd7-b2b0-a12b415e3319",
        "colab": {
          "base_uri": "https://localhost:8080/",
          "height": 1000
        }
      },
      "source": [
        "EPOCHS = 30000\n",
        "for e in range(EPOCHS):\n",
        "    # clear gradients\n",
        "    optimizer.zero_grad()\n",
        "    # propagate variable x through a network and get prediction for y value\n",
        "    y_predicted = model(x)\n",
        "    # compare predicted value with true value and calculate mean squared error\n",
        "    loss = criterion(y_predicted, y)\n",
        "    # do backpropagation to compute gradients\n",
        "    loss.backward()\n",
        "    # optimize weights\n",
        "    optimizer.step() \n",
        "    # print statistics\n",
        "    if e % 100 == 0:\n",
        "        print('Epoch: {}  Loss: {}'.format(e, loss.item()))"
      ],
      "execution_count": 0,
      "outputs": [
        {
          "output_type": "stream",
          "text": [
            "Epoch: 0  Loss: 0.7883844375610352\n",
            "Epoch: 100  Loss: 0.4273644685745239\n",
            "Epoch: 200  Loss: 0.3982737958431244\n",
            "Epoch: 300  Loss: 0.36736512184143066\n",
            "Epoch: 400  Loss: 0.33280667662620544\n",
            "Epoch: 500  Loss: 0.29656609892845154\n",
            "Epoch: 600  Loss: 0.26173102855682373\n",
            "Epoch: 700  Loss: 0.23373232781887054\n",
            "Epoch: 800  Loss: 0.21331393718719482\n",
            "Epoch: 900  Loss: 0.19973015785217285\n",
            "Epoch: 1000  Loss: 0.19046270847320557\n",
            "Epoch: 1100  Loss: 0.18369483947753906\n",
            "Epoch: 1200  Loss: 0.17945164442062378\n",
            "Epoch: 1300  Loss: 0.17562800645828247\n",
            "Epoch: 1400  Loss: 0.17261172831058502\n",
            "Epoch: 1500  Loss: 0.16973888874053955\n",
            "Epoch: 1600  Loss: 0.16687609255313873\n",
            "Epoch: 1700  Loss: 0.16384558379650116\n",
            "Epoch: 1800  Loss: 0.16068238019943237\n",
            "Epoch: 1900  Loss: 0.15743915736675262\n",
            "Epoch: 2000  Loss: 0.15408362448215485\n",
            "Epoch: 2100  Loss: 0.15060395002365112\n",
            "Epoch: 2200  Loss: 0.14698362350463867\n",
            "Epoch: 2300  Loss: 0.143209308385849\n",
            "Epoch: 2400  Loss: 0.13927631080150604\n",
            "Epoch: 2500  Loss: 0.13518348336219788\n",
            "Epoch: 2600  Loss: 0.13094912469387054\n",
            "Epoch: 2700  Loss: 0.1265745908021927\n",
            "Epoch: 2800  Loss: 0.12207873165607452\n",
            "Epoch: 2900  Loss: 0.11747260391712189\n",
            "Epoch: 3000  Loss: 0.11275366693735123\n",
            "Epoch: 3100  Loss: 0.10792596638202667\n",
            "Epoch: 3200  Loss: 0.10300256311893463\n",
            "Epoch: 3300  Loss: 0.09800522774457932\n",
            "Epoch: 3400  Loss: 0.09295138716697693\n",
            "Epoch: 3500  Loss: 0.08787476271390915\n",
            "Epoch: 3600  Loss: 0.08281899988651276\n",
            "Epoch: 3700  Loss: 0.07779071480035782\n",
            "Epoch: 3800  Loss: 0.07285470515489578\n",
            "Epoch: 3900  Loss: 0.0680181011557579\n",
            "Epoch: 4000  Loss: 0.06333156675100327\n",
            "Epoch: 4100  Loss: 0.05881122872233391\n",
            "Epoch: 4200  Loss: 0.05448698252439499\n",
            "Epoch: 4300  Loss: 0.050374630838632584\n",
            "Epoch: 4400  Loss: 0.046484239399433136\n",
            "Epoch: 4500  Loss: 0.04283889755606651\n",
            "Epoch: 4600  Loss: 0.039437081664800644\n",
            "Epoch: 4700  Loss: 0.03627830371260643\n",
            "Epoch: 4800  Loss: 0.03336730971932411\n",
            "Epoch: 4900  Loss: 0.030689124017953873\n",
            "Epoch: 5000  Loss: 0.028223583474755287\n",
            "Epoch: 5100  Loss: 0.0259880181401968\n",
            "Epoch: 5200  Loss: 0.02397964708507061\n",
            "Epoch: 5300  Loss: 0.022181853652000427\n",
            "Epoch: 5400  Loss: 0.020568661391735077\n",
            "Epoch: 5500  Loss: 0.019129108637571335\n",
            "Epoch: 5600  Loss: 0.01784215308725834\n",
            "Epoch: 5700  Loss: 0.01668962836265564\n",
            "Epoch: 5800  Loss: 0.015654392540454865\n",
            "Epoch: 5900  Loss: 0.014721260406076908\n",
            "Epoch: 6000  Loss: 0.013879101723432541\n",
            "Epoch: 6100  Loss: 0.01311694085597992\n",
            "Epoch: 6200  Loss: 0.012425108812749386\n",
            "Epoch: 6300  Loss: 0.011785130947828293\n",
            "Epoch: 6400  Loss: 0.01120329275727272\n",
            "Epoch: 6500  Loss: 0.010675208643078804\n",
            "Epoch: 6600  Loss: 0.010194292291998863\n",
            "Epoch: 6700  Loss: 0.009746112860739231\n",
            "Epoch: 6800  Loss: 0.009336532093584538\n",
            "Epoch: 6900  Loss: 0.008959447965025902\n",
            "Epoch: 7000  Loss: 0.008613793179392815\n",
            "Epoch: 7100  Loss: 0.008291986770927906\n",
            "Epoch: 7200  Loss: 0.00799438077956438\n",
            "Epoch: 7300  Loss: 0.007720554247498512\n",
            "Epoch: 7400  Loss: 0.0074675437062978745\n",
            "Epoch: 7500  Loss: 0.0072355130687355995\n",
            "Epoch: 7600  Loss: 0.007018520496785641\n",
            "Epoch: 7700  Loss: 0.006811285857111216\n",
            "Epoch: 7800  Loss: 0.006620398256927729\n",
            "Epoch: 7900  Loss: 0.006442394573241472\n",
            "Epoch: 8000  Loss: 0.006277873180806637\n",
            "Epoch: 8100  Loss: 0.006126970984041691\n",
            "Epoch: 8200  Loss: 0.005985105875879526\n",
            "Epoch: 8300  Loss: 0.005853498820215464\n",
            "Epoch: 8400  Loss: 0.005730071570724249\n",
            "Epoch: 8500  Loss: 0.0056115929037332535\n",
            "Epoch: 8600  Loss: 0.00550248846411705\n",
            "Epoch: 8700  Loss: 0.005395003128796816\n",
            "Epoch: 8800  Loss: 0.00529630808159709\n",
            "Epoch: 8900  Loss: 0.005201108753681183\n",
            "Epoch: 9000  Loss: 0.005112935788929462\n",
            "Epoch: 9100  Loss: 0.005031170789152384\n",
            "Epoch: 9200  Loss: 0.004954175557941198\n",
            "Epoch: 9300  Loss: 0.004881325643509626\n",
            "Epoch: 9400  Loss: 0.004812640603631735\n",
            "Epoch: 9500  Loss: 0.004747914150357246\n",
            "Epoch: 9600  Loss: 0.004686661064624786\n",
            "Epoch: 9700  Loss: 0.004627913702279329\n",
            "Epoch: 9800  Loss: 0.0045710280537605286\n",
            "Epoch: 9900  Loss: 0.004513982683420181\n",
            "Epoch: 10000  Loss: 0.004462623503059149\n",
            "Epoch: 10100  Loss: 0.0044145588763058186\n",
            "Epoch: 10200  Loss: 0.004369034897536039\n",
            "Epoch: 10300  Loss: 0.00432591000571847\n",
            "Epoch: 10400  Loss: 0.004284518770873547\n",
            "Epoch: 10500  Loss: 0.004245224874466658\n",
            "Epoch: 10600  Loss: 0.0042083533480763435\n",
            "Epoch: 10700  Loss: 0.004172332584857941\n",
            "Epoch: 10800  Loss: 0.004137618932873011\n",
            "Epoch: 10900  Loss: 0.004105408675968647\n",
            "Epoch: 11000  Loss: 0.004074396099895239\n",
            "Epoch: 11100  Loss: 0.004045508336275816\n",
            "Epoch: 11200  Loss: 0.0040181102231144905\n",
            "Epoch: 11300  Loss: 0.003991852980107069\n",
            "Epoch: 11400  Loss: 0.0039667654782533646\n",
            "Epoch: 11500  Loss: 0.003942462615668774\n",
            "Epoch: 11600  Loss: 0.003919318784028292\n",
            "Epoch: 11700  Loss: 0.003897464368492365\n",
            "Epoch: 11800  Loss: 0.0038766993675380945\n",
            "Epoch: 11900  Loss: 0.003857121802866459\n",
            "Epoch: 12000  Loss: 0.003838371718302369\n",
            "Epoch: 12100  Loss: 0.0038204381708055735\n",
            "Epoch: 12200  Loss: 0.003803292755037546\n",
            "Epoch: 12300  Loss: 0.0037871026434004307\n",
            "Epoch: 12400  Loss: 0.003771474352106452\n",
            "Epoch: 12500  Loss: 0.003756358753889799\n",
            "Epoch: 12600  Loss: 0.0037418133579194546\n",
            "Epoch: 12700  Loss: 0.003727995790541172\n",
            "Epoch: 12800  Loss: 0.0037147030234336853\n",
            "Epoch: 12900  Loss: 0.0037013955879956484\n",
            "Epoch: 13000  Loss: 0.003688555210828781\n",
            "Epoch: 13100  Loss: 0.003676335560157895\n",
            "Epoch: 13200  Loss: 0.003664841176941991\n",
            "Epoch: 13300  Loss: 0.003653793828561902\n",
            "Epoch: 13400  Loss: 0.0036433443892747164\n",
            "Epoch: 13500  Loss: 0.0036329077556729317\n",
            "Epoch: 13600  Loss: 0.003622777061536908\n",
            "Epoch: 13700  Loss: 0.003612172557041049\n",
            "Epoch: 13800  Loss: 0.0036019792314618826\n",
            "Epoch: 13900  Loss: 0.0035924133844673634\n",
            "Epoch: 14000  Loss: 0.003583095036447048\n",
            "Epoch: 14100  Loss: 0.003573643509298563\n",
            "Epoch: 14200  Loss: 0.0035634676460176706\n",
            "Epoch: 14300  Loss: 0.0035535097122192383\n",
            "Epoch: 14400  Loss: 0.0035446686670184135\n",
            "Epoch: 14500  Loss: 0.0035357531160116196\n",
            "Epoch: 14600  Loss: 0.0035278715658932924\n",
            "Epoch: 14700  Loss: 0.003519891994073987\n",
            "Epoch: 14800  Loss: 0.0035121499095112085\n",
            "Epoch: 14900  Loss: 0.0035051116719841957\n",
            "Epoch: 15000  Loss: 0.0034984012600034475\n",
            "Epoch: 15100  Loss: 0.003491998417302966\n",
            "Epoch: 15200  Loss: 0.003485963447019458\n",
            "Epoch: 15300  Loss: 0.0034801741130650043\n",
            "Epoch: 15400  Loss: 0.003474624827504158\n",
            "Epoch: 15500  Loss: 0.003469190327450633\n",
            "Epoch: 15600  Loss: 0.003463959554210305\n",
            "Epoch: 15700  Loss: 0.0034588491544127464\n",
            "Epoch: 15800  Loss: 0.0034539608750492334\n",
            "Epoch: 15900  Loss: 0.0034490986727178097\n",
            "Epoch: 16000  Loss: 0.0034442225005477667\n",
            "Epoch: 16100  Loss: 0.0034395293332636356\n",
            "Epoch: 16200  Loss: 0.003434328828006983\n",
            "Epoch: 16300  Loss: 0.0034294682554900646\n",
            "Epoch: 16400  Loss: 0.003425188595429063\n",
            "Epoch: 16500  Loss: 0.003420970868319273\n",
            "Epoch: 16600  Loss: 0.003417154075577855\n",
            "Epoch: 16700  Loss: 0.0034134858287870884\n",
            "Epoch: 16800  Loss: 0.0034098131582140923\n",
            "Epoch: 16900  Loss: 0.0034062708728015423\n",
            "Epoch: 17000  Loss: 0.0034028601367026567\n",
            "Epoch: 17100  Loss: 0.003399443347007036\n",
            "Epoch: 17200  Loss: 0.0033960610162466764\n",
            "Epoch: 17300  Loss: 0.0033927797339856625\n",
            "Epoch: 17400  Loss: 0.003389407182112336\n",
            "Epoch: 17500  Loss: 0.003386161057278514\n",
            "Epoch: 17600  Loss: 0.0033830786123871803\n",
            "Epoch: 17700  Loss: 0.0033800569362938404\n",
            "Epoch: 17800  Loss: 0.0033771363086998463\n",
            "Epoch: 17900  Loss: 0.0033742652740329504\n",
            "Epoch: 18000  Loss: 0.003371247323229909\n",
            "Epoch: 18100  Loss: 0.0033683970104902983\n",
            "Epoch: 18200  Loss: 0.003365682205185294\n",
            "Epoch: 18300  Loss: 0.003363067517057061\n",
            "Epoch: 18400  Loss: 0.003360571339726448\n",
            "Epoch: 18500  Loss: 0.0033579436130821705\n",
            "Epoch: 18600  Loss: 0.003355397842824459\n",
            "Epoch: 18700  Loss: 0.0033530232030898333\n",
            "Epoch: 18800  Loss: 0.0033507102634757757\n",
            "Epoch: 18900  Loss: 0.003348462749272585\n",
            "Epoch: 19000  Loss: 0.003346257610246539\n",
            "Epoch: 19100  Loss: 0.003343734657391906\n",
            "Epoch: 19200  Loss: 0.0033415225334465504\n",
            "Epoch: 19300  Loss: 0.0033393881749361753\n",
            "Epoch: 19400  Loss: 0.003337364410981536\n",
            "Epoch: 19500  Loss: 0.00333539885468781\n",
            "Epoch: 19600  Loss: 0.003333485219627619\n",
            "Epoch: 19700  Loss: 0.0033316402696073055\n",
            "Epoch: 19800  Loss: 0.0033297843765467405\n",
            "Epoch: 19900  Loss: 0.0033280549105256796\n",
            "Epoch: 20000  Loss: 0.003326375037431717\n",
            "Epoch: 20100  Loss: 0.0033247489482164383\n",
            "Epoch: 20200  Loss: 0.0033231882844120264\n",
            "Epoch: 20300  Loss: 0.0033216802403330803\n",
            "Epoch: 20400  Loss: 0.0033202043268829584\n",
            "Epoch: 20500  Loss: 0.003318769857287407\n",
            "Epoch: 20600  Loss: 0.003317379392683506\n",
            "Epoch: 20700  Loss: 0.003316035494208336\n",
            "Epoch: 20800  Loss: 0.0033147430513054132\n",
            "Epoch: 20900  Loss: 0.0033134480472654104\n",
            "Epoch: 21000  Loss: 0.003312220796942711\n",
            "Epoch: 21100  Loss: 0.0033110245130956173\n",
            "Epoch: 21200  Loss: 0.003309855703264475\n",
            "Epoch: 21300  Loss: 0.0033087143674492836\n",
            "Epoch: 21400  Loss: 0.0033075977116823196\n",
            "Epoch: 21500  Loss: 0.0033064375165849924\n",
            "Epoch: 21600  Loss: 0.003305270569398999\n",
            "Epoch: 21700  Loss: 0.0033042081631720066\n",
            "Epoch: 21800  Loss: 0.003303201636299491\n",
            "Epoch: 21900  Loss: 0.0033021217677742243\n",
            "Epoch: 22000  Loss: 0.003301075194031\n",
            "Epoch: 22100  Loss: 0.0033000840339809656\n",
            "Epoch: 22200  Loss: 0.0032991173211485147\n",
            "Epoch: 22300  Loss: 0.003298163879662752\n",
            "Epoch: 22400  Loss: 0.0032971901819109917\n",
            "Epoch: 22500  Loss: 0.003296272363513708\n",
            "Epoch: 22600  Loss: 0.0032953855115920305\n",
            "Epoch: 22700  Loss: 0.0032944611739367247\n",
            "Epoch: 22800  Loss: 0.003293633460998535\n",
            "Epoch: 22900  Loss: 0.0032925382256507874\n",
            "Epoch: 23000  Loss: 0.00329166860319674\n",
            "Epoch: 23100  Loss: 0.003290837863460183\n",
            "Epoch: 23200  Loss: 0.0032900534570217133\n",
            "Epoch: 23300  Loss: 0.0032892981544137\n",
            "Epoch: 23400  Loss: 0.0032884995453059673\n",
            "Epoch: 23500  Loss: 0.0032877062913030386\n",
            "Epoch: 23600  Loss: 0.003286949126049876\n",
            "Epoch: 23700  Loss: 0.0032862068619579077\n",
            "Epoch: 23800  Loss: 0.0032854995224624872\n",
            "Epoch: 23900  Loss: 0.0032848112750798464\n",
            "Epoch: 24000  Loss: 0.0032841283828020096\n",
            "Epoch: 24100  Loss: 0.003283460158854723\n",
            "Epoch: 24200  Loss: 0.0032828080002218485\n",
            "Epoch: 24300  Loss: 0.0032821763306856155\n",
            "Epoch: 24400  Loss: 0.003281238256022334\n",
            "Epoch: 24500  Loss: 0.0032805113587528467\n",
            "Epoch: 24600  Loss: 0.0032798016909509897\n",
            "Epoch: 24700  Loss: 0.003279103199020028\n",
            "Epoch: 24800  Loss: 0.0032781194895505905\n",
            "Epoch: 24900  Loss: 0.0032773695420473814\n",
            "Epoch: 25000  Loss: 0.003276644740253687\n",
            "Epoch: 25100  Loss: 0.003275709692388773\n",
            "Epoch: 25200  Loss: 0.0032749411184340715\n",
            "Epoch: 25300  Loss: 0.0032741997856646776\n",
            "Epoch: 25400  Loss: 0.003273323643952608\n",
            "Epoch: 25500  Loss: 0.003272503847256303\n",
            "Epoch: 25600  Loss: 0.003271649358794093\n",
            "Epoch: 25700  Loss: 0.0032708952203392982\n",
            "Epoch: 25800  Loss: 0.0032701564487069845\n",
            "Epoch: 25900  Loss: 0.0032693007960915565\n",
            "Epoch: 26000  Loss: 0.0032685722690075636\n",
            "Epoch: 26100  Loss: 0.0032678565476089716\n",
            "Epoch: 26200  Loss: 0.003267166204750538\n",
            "Epoch: 26300  Loss: 0.0032664649188518524\n",
            "Epoch: 26400  Loss: 0.003265786450356245\n",
            "Epoch: 26500  Loss: 0.003265125909820199\n",
            "Epoch: 26600  Loss: 0.0032644877210259438\n",
            "Epoch: 26700  Loss: 0.003263868158683181\n",
            "Epoch: 26800  Loss: 0.0032632616348564625\n",
            "Epoch: 26900  Loss: 0.0032626634929329157\n",
            "Epoch: 27000  Loss: 0.003262084908783436\n",
            "Epoch: 27100  Loss: 0.0032615275122225285\n",
            "Epoch: 27200  Loss: 0.0032609798945486546\n",
            "Epoch: 27300  Loss: 0.003260455559939146\n",
            "Epoch: 27400  Loss: 0.003259963821619749\n",
            "Epoch: 27500  Loss: 0.0032592960633337498\n",
            "Epoch: 27600  Loss: 0.0032585409935563803\n",
            "Epoch: 27700  Loss: 0.0032578199170529842\n",
            "Epoch: 27800  Loss: 0.0032571800984442234\n",
            "Epoch: 27900  Loss: 0.0032565975561738014\n",
            "Epoch: 28000  Loss: 0.0032557693775743246\n",
            "Epoch: 28100  Loss: 0.003255098592489958\n",
            "Epoch: 28200  Loss: 0.0032545188441872597\n",
            "Epoch: 28300  Loss: 0.0032539782114326954\n",
            "Epoch: 28400  Loss: 0.0032534601632505655\n",
            "Epoch: 28500  Loss: 0.003252956084907055\n",
            "Epoch: 28600  Loss: 0.0032524713315069675\n",
            "Epoch: 28700  Loss: 0.003251999383792281\n",
            "Epoch: 28800  Loss: 0.003251542802900076\n",
            "Epoch: 28900  Loss: 0.003251112764701247\n",
            "Epoch: 29000  Loss: 0.003250682959333062\n",
            "Epoch: 29100  Loss: 0.0032502426765859127\n",
            "Epoch: 29200  Loss: 0.0032498245127499104\n",
            "Epoch: 29300  Loss: 0.003249432658776641\n",
            "Epoch: 29400  Loss: 0.003249039640650153\n",
            "Epoch: 29500  Loss: 0.00324867176823318\n",
            "Epoch: 29600  Loss: 0.003248317399993539\n",
            "Epoch: 29700  Loss: 0.0032477781642228365\n",
            "Epoch: 29800  Loss: 0.0032473497558385134\n",
            "Epoch: 29900  Loss: 0.003246892476454377\n"
          ],
          "name": "stdout"
        }
      ]
    },
    {
      "cell_type": "markdown",
      "metadata": {
        "id": "rPuJmpUmbwyH",
        "colab_type": "text"
      },
      "source": [
        "Transfer data back to CPU and convert it to numpy for plotting:"
      ]
    },
    {
      "cell_type": "code",
      "metadata": {
        "id": "NVgaQC31Clh2",
        "colab_type": "code",
        "colab": {}
      },
      "source": [
        "x_to_plot = x.cpu().numpy()\n",
        "y_to_plot = y.cpu().numpy()\n",
        "y_predicted_to_plot = y_predicted.cpu().data.numpy()"
      ],
      "execution_count": 0,
      "outputs": []
    },
    {
      "cell_type": "markdown",
      "metadata": {
        "id": "bg_5ZfnFbzwY",
        "colab_type": "text"
      },
      "source": [
        "Plot results:"
      ]
    },
    {
      "cell_type": "code",
      "metadata": {
        "id": "xGKGE90c8lr2",
        "colab_type": "code",
        "outputId": "ea4e8b9c-c1c5-49c0-cc7e-ffc82bdc64c8",
        "colab": {
          "base_uri": "https://localhost:8080/",
          "height": 359
        }
      },
      "source": [
        "_, ax = plt.subplots(1, 1, figsize=(8, 5))\n",
        "ax.scatter(x_to_plot, y_to_plot, s=2, label='noisy sin(x)')\n",
        "ax.plot(x_to_plot, y_predicted_to_plot, c='orange', linewidth=2.5, label='model prediction')\n",
        "ax.set_xlabel('x', fontsize=14, style='italic')\n",
        "ax.set_ylabel('y', fontsize=14, style='italic')\n",
        "ax.legend(loc='best', fontsize=8)"
      ],
      "execution_count": 0,
      "outputs": [
        {
          "output_type": "execute_result",
          "data": {
            "text/plain": [
              "<matplotlib.legend.Legend at 0x7fcf9eb44cf8>"
            ]
          },
          "metadata": {
            "tags": []
          },
          "execution_count": 14
        },
        {
          "output_type": "display_data",
          "data": {
            "image/png": "[encoded data removed]",
            "text/plain": [
              "<Figure size 576x360 with 1 Axes>"
            ]
          },
          "metadata": {
            "tags": []
          }
        }
      ]
    },
    {
      "cell_type": "markdown",
      "metadata": {
        "id": "w8_TWAA7DuZ5",
        "colab_type": "text"
      },
      "source": [
        "The result are actually pretty good. Notice that this type of neural network generally cannot capture long-range patterns in the data and is also not very good at generalization, which is why in the future we are going to use a network consisting of convolutional layers instead of classical \"linear\" layers as we did here."
      ]
    },
    {
      "cell_type": "markdown",
      "metadata": {
        "id": "3-8KZwLYY0TX",
        "colab_type": "text"
      },
      "source": [
        "## Connecting Colab notebook to Deep Learning VM on Google Cloud Platform\n",
        "\n",
        "Google Clab provides 12 GB of RAM and a free GPU (Tesla T4 or Tesla K80). If this is not enough, you may connect your notebook  to a [Deep Learning VM](https://cloud.google.com/ml-engine/docs/notebooks/create-new) on Google Cloud Platform where you can adjust specs of your instance each time before launching it. I made a short tutorial video [here](https://drive.google.com/file/d/1ijawhI6AuPXxWhLu8flkrHZPTu3o_zF0/view?usp=sharing) ."
      ]
    },
    {
      "cell_type": "code",
      "metadata": {
        "id": "u2L_ZnNkdKPf",
        "colab_type": "code",
        "colab": {}
      },
      "source": [
        ""
      ],
      "execution_count": 0,
      "outputs": []
    }
  ]
}
